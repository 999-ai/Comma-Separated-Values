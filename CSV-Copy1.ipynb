{
 "cells": [
  {
   "cell_type": "code",
   "execution_count": 57,
   "id": "72c46d1c-39a0-4ab9-82e4-975f8b9e1646",
   "metadata": {},
   "outputs": [],
   "source": [
    "import csv\n",
    "file_path=\"books.csv\"\n",
    "data=[\n",
    "     [\"Title\",\"Author\",\"Publisher\"],\n",
    "     [\"Phyton Programming\",\"John Smith\",\"Techbooks\"],\n",
    "     [\"Data Science Handbook\",\"Emily Brown\",\"Datapublishers\"],\n",
    "     [\"Machine Learning Basics\",\"Michael Johnson\",\"AIbook\"]\n",
    "     ]\n",
    "with open(file_path,\"w\",newline=\"\",encoding=\"utf-8\") as file:\n",
    "    writerr=csv.writer(file)\n",
    "    writerr.writerows(data)"
   ]
  },
  {
   "cell_type": "code",
   "execution_count": 3,
   "id": "6241233f-6723-438e-8e85-96056ed623d2",
   "metadata": {},
   "outputs": [],
   "source": [
    "import csv\n",
    "file_path=\"books.csv\"\n",
    "data=[\n",
    "     [\"Title\",\"Author\",\"Publisher\"],\n",
    "     [\"Phyton Programming\",\"John Smith\",\"Techbooks\"],  \n",
    "     [\"Data Science Handbook\",\"Emily Brown\",\"Datapublishers\"],\n",
    "     [\"Machine Learning Basics\",\"Michael Johnson\",\"AIbook\"]\n",
    "     ]\n",
    "with open(file_path,\"w\",encoding=\"utf-8\") as file:\n",
    "    writerw=csv.writer(file)\n",
    "    writerw.writerows(data)\n"
   ]
  },
  {
   "cell_type": "code",
   "execution_count": 15,
   "id": "45f0efc8-55ca-4853-a3ee-1b7118391ab9",
   "metadata": {},
   "outputs": [
    {
     "name": "stdout",
     "output_type": "stream",
     "text": [
      "['Title', 'Author', 'Publisher']\n",
      "['Phyton Programming', 'John Smith', 'Techbooks']\n",
      "['Data Science Handbook', 'Emily Brown', 'Datapublishers']\n",
      "['Machine Learning Basics', 'Michael Johnson', 'AIbook']\n"
     ]
    }
   ],
   "source": [
    "import csv\n",
    "with open(\"books.csv\",\"r\",encoding=\"utf-8\") as file:\n",
    "    reader=csv.reader(file)\n",
    "    for row in reader:\n",
    "        print(row)"
   ]
  },
  {
   "cell_type": "code",
   "execution_count": 5,
   "id": "d29cbb5c-6b69-4aa8-9414-70a02faead1a",
   "metadata": {},
   "outputs": [],
   "source": [
    "import csv\n",
    "file1=\"information.csv\"\n",
    "data=[\n",
    "    [\"name\",\"age\",\"class\"],\n",
    "    [\"sibel\",25,\"4a\"],\n",
    "    ]\n",
    "with open(file1,\"w\",encoding=\"utf-8\") as file:  \n",
    " writer1=csv.writer(file) \n",
    "                          \n",
    " writer1.writerows(data)"
   ]
  },
  {
   "cell_type": "code",
   "execution_count": 51,
   "id": "f316497d-be07-4a81-8ace-97a848e505d2",
   "metadata": {},
   "outputs": [
    {
     "name": "stdout",
     "output_type": "stream",
     "text": [
      "['name', 'age', 'class']\n",
      "['sibel', '25', '4a']\n"
     ]
    }
   ],
   "source": [
    "import csv\n",
    "with open(\"information.csv\",\"r\",encoding=\"utf-8\") as file: \n",
    "    reader1=csv.reader(file)\n",
    "    for row in reader1:\n",
    "        print(row)"
   ]
  },
  {
   "cell_type": "code",
   "execution_count": 29,
   "id": "9217f9fd-50eb-4c9a-afca-6bdefd1f8e90",
   "metadata": {},
   "outputs": [],
   "source": [
    "import csv\n",
    "file1=\"students1.txt\"\n",
    "file2=\"students2.txt\"\n",
    "\n",
    "students1= [\"Ali,20,A,\",\"AYSE,16,D\",\n",
    "            \"MEHMET,17,C\",\"SİBEL,15,M\",\n",
    "            \"SİNEM,15,G\",\"SEAMLESS,89,K\"]\n",
    "students2=[\"adam,78,G\",\"john,8,h\",\n",
    "           \"nick,6,k\",\"denn,9,p\",\n",
    "           \"tia,3,l\",\"serra,3,k\"]\n",
    "with open(file1,\"w\",newline=\"\",encoding=\"utf-8\") as file: \n",
    " studentfirst=csv.writer(file)\n",
    " studentfirst.writerow(students1)\n",
    "\n",
    "with open(file2 ,\"w\",newline=\"\",encoding=\"utf-8\") as file:\n",
    " studentlast=csv.writer(file)\n",
    " studentlast.writerow(students2)"
   ]
  },
  {
   "cell_type": "code",
   "execution_count": 33,
   "id": "873f39c8-3135-4b47-a8f3-4902390b6aca",
   "metadata": {},
   "outputs": [
    {
     "name": "stdout",
     "output_type": "stream",
     "text": [
      "['Ali,20,A,', 'AYSE,16,D', 'MEHMET,17,C', 'SİBEL,15,M', 'SİNEM,15,G', 'SEAMLESS,89,K']\n"
     ]
    }
   ],
   "source": [
    "import csv\n",
    "with open(file1,\"r\",encoding=\"utf-8\")as file:\n",
    "  reader2=csv.reader(file)\n",
    "  for row in reader2:\n",
    "        print(row)"
   ]
  },
  {
   "cell_type": "code",
   "execution_count": 47,
   "id": "ccf15fda-2366-48a3-8776-21566a425dc9",
   "metadata": {},
   "outputs": [
    {
     "name": "stdout",
     "output_type": "stream",
     "text": [
      "strings are written to example.txt successfully\n"
     ]
    }
   ],
   "source": [
    "my_file=\"example.txt\"\n",
    "file=open(my_file,\"w\",newline=\"\",encoding=\"utf-8\") \n",
    "file.write(\"hello world\"+\"\\n\")\n",
    "file.write(\"this is an example file\")\n",
    "\n",
    "file.close()\n",
    "print(f\"strings are written to {my_file} successfully\")"
   ]
  },
  {
   "cell_type": "code",
   "execution_count": 55,
   "id": "74731ad9-8f29-4735-b17d-120643c37286",
   "metadata": {},
   "outputs": [
    {
     "name": "stdout",
     "output_type": "stream",
     "text": [
      "students are written to students.csv successfully\n"
     ]
    }
   ],
   "source": [
    "your_file=\"students.csv\"\n",
    "students=[\n",
    "         [\"NAME\",\"AGE\",\"CLASS\"],\n",
    "         [\"Ali\",8,\"L\"],\n",
    "         [\"SEMA\",9,\"K\"],\n",
    "         [\"WEST\",6,\"U\"],\n",
    "         ]\n",
    "with open(your_file,\"w\",newline=\"\",encoding=\"utf-8\") as file:\n",
    "    file3=csv.writer(file)\n",
    "    file3.writerows(students) \n",
    "print(f\"students are written to {your_file} successfully\")"
   ]
  },
  {
   "cell_type": "code",
   "execution_count": 57,
   "id": "baadaa60-700f-4f42-b41a-ef9d775f7837",
   "metadata": {},
   "outputs": [
    {
     "name": "stdout",
     "output_type": "stream",
     "text": [
      "['NAME', 'AGE', 'CLASS']\n",
      "['Ali', '8', 'L']\n",
      "['SEMA', '9', 'K']\n",
      "['WEST', '6', 'U']\n"
     ]
    }
   ],
   "source": [
    "with open(your_file ,\"r\",encoding=\"utf-8\") as file:\n",
    "    reader2=csv.reader(file)\n",
    "    for row in reader2:\n",
    "        print(row)"
   ]
  },
  {
   "cell_type": "code",
   "execution_count": 1,
   "id": "83b83255-a7bb-4c79-8481-32704fb2887e",
   "metadata": {},
   "outputs": [
    {
     "name": "stdout",
     "output_type": "stream",
     "text": [
      "file1.txt andfile2.txt is written successfully\n",
      "{'Ali,7,C\\n', 'MIKE,2,F\\n', 'CAN,9,D\\n'}\n",
      "{'Ali,7,C\\n', 'MIKE,2,F\\n', 'sibel,7,B\\n'}\n",
      "\n",
      "the item of common set is here\n",
      "Ali,7,C\n",
      "MIKE,2,F\n",
      "\n",
      "the number of common line is 2\n"
     ]
    }
   ],
   "source": [
    "file1_path=\"file1.txt\"\n",
    "data1=[\n",
    "    \"Ali,7,C\",\n",
    "    \"CAN,9,D\",\n",
    "    \"MIKE,2,F\"\n",
    "     ]\n",
    "with open(file1_path,\"w\",encoding=\"utf-8\") as myfile:\n",
    "    for item in data1:\n",
    "       myfile.write(item + \"\\n\") \n",
    "\n",
    "file2_path=\"file2.txt\"\n",
    "data2=[\n",
    "      \"sibel,7,B\",\n",
    "      \"Ali,7,C\",\n",
    "      \"MIKE,2,F\"\n",
    "      ]\n",
    "with open (file2_path,\"w\",encoding=\"utf-8\") as yourfile:\n",
    "    for item in data2:\n",
    "        yourfile.write(item + \"\\n\")\n",
    "\n",
    "print(f\"{file1_path} and{file2_path} is written successfully\")\n",
    "\n",
    "with open(file1_path,\"r\",encoding=\"utf-8\") as myfile: \n",
    "     myset=set(myfile.readlines()) \n",
    "                                   \n",
    "     print(myset)\n",
    "\n",
    "with open(file2_path,\"r\",encoding=\"utf-8\") as yourfile:# file2.txt dosyasını okuma\n",
    "     yourset=set(yourfile.readlines())\n",
    "     print(yourset)\n",
    "print()\n",
    "common_set=myset.intersection(yourset)  \n",
    "print(\"the item of common set is here\")\n",
    "for item in common_set:\n",
    "    print(item.strip())  \n",
    "     \n",
    "print()\n",
    "print(f\"the number of common line is {len(common_set)}\")          "
   ]
  },
  {
   "cell_type": "code",
   "execution_count": 3,
   "id": "95cb1b85-0bd8-4e2e-a2db-e937d43063e6",
   "metadata": {},
   "outputs": [
    {
     "name": "stdout",
     "output_type": "stream",
     "text": [
      "A65, 20, A\n",
      "Ayştrte, 22, B\n",
      "Mehmet, 21, A\n",
      "Fatmrta, 23, C\n",
      "Hasan, 20, B\n",
      "Hülya, 22, C\n"
     ]
    }
   ],
   "source": [
    "file1=\"studentin1.txt\"\n",
    "students1 = [\n",
    "    \"A65, 20, A\",\n",
    "    \"Ayştrte, 22, B\",\n",
    "    \"Mehmet, 21, A\",\n",
    "    \"Fatmrta, 23, C\",\n",
    "    \"Hasan, 20, B\",\n",
    "    \"Hülya, 22, C\"\n",
    "]\n",
    "\n",
    "with open(file1,\"w\",newline=\"\",encoding=\"utf-8\") as file:\n",
    " for item in students1:\n",
    "    file.write(item+\"\\n\")\n",
    "    \n",
    "\n",
    "file2=\"studentin2.txt\"\n",
    "studentin2=[\n",
    "    \"Ali, 20, A\",\n",
    "    \"Ayşe, 22, B\",\n",
    "    \"Mehmet, 21, A\",\n",
    "    \"Fatma, 23, C\",\n",
    "    \"Hasan, 20, B\",\n",
    "    \"Hülya, 22, C\"\n",
    "]\n",
    "\n",
    "with open(file2,\"w\",newline=\"\",encoding=\"utf-8\") as file:\n",
    "    for item in studentin2:\n",
    "        file.write(item+\"\\n\")\n",
    "\n",
    "with open(file1,\"r\",encoding=\"utf-8\") as file:\n",
    "   myfile=file.readlines() #myfile = file.readlines(): Bu ifade, dosyadaki tüm satırları okur ve \n",
    "    # her bir satırı bir liste elemanı olarak saklar. Yani myfile artık dosyanın içeriğini satır satır tutan bir liste olacak.\n",
    "   for item in myfile:\n",
    "    print(item.strip())"
   ]
  },
  {
   "cell_type": "code",
   "execution_count": 5,
   "id": "5884ade5-81f2-4662-98e1-7bc05f16a75b",
   "metadata": {},
   "outputs": [
    {
     "name": "stdout",
     "output_type": "stream",
     "text": [
      "Ali, 20, A\n",
      "Ayşe, 22, B\n",
      "Mehmet, 21, A\n",
      "Fatma, 23, C\n",
      "Hasan, 20, B\n",
      "Hülya, 22, C\n"
     ]
    }
   ],
   "source": [
    "with open(file2,\"r\",encoding=\"utf-8\") as file1:\n",
    "  ourfile=file1.readlines()\n",
    "  for item in ourfile:\n",
    "      print(item.strip())"
   ]
  },
  {
   "cell_type": "code",
   "execution_count": 310,
   "id": "d6e4d80c-4894-41df-82fd-7e8d7ec34bad",
   "metadata": {},
   "outputs": [
    {
     "name": "stdout",
     "output_type": "stream",
     "text": [
      "name:Python Programming,author:John Smith,publisher:TechBooks\n",
      "name:Data Science Handbook,author:Emily Brown,publisher:DataPublishers\n",
      "name:Machine Learning Basics,author:Michael Johnson,publisher:AIBooks\n"
     ]
    }
   ],
   "source": [
    "class Book:\n",
    "    def __init__(self,name,author,publisher):\n",
    "        self.name=name\n",
    "        self.author=author\n",
    "        self.publisher=publisher\n",
    "    def __str__ (self):\n",
    "     return f\"name:{self.name},author:{self.author},publisher:{self.publisher}\"\n",
    "\n",
    "file_path=\"books.txt\"\n",
    "books = [\n",
    "    \"Python Programming, John Smith, TechBooks\",\n",
    "    \"Data Science Handbook, Emily Brown, DataPublishers\",\n",
    "    \"Machine Learning Basics, Michael Johnson, AIBooks\"\n",
    "]\n",
    "with open(file_path,\"w\",encoding=\"utf-8\") as file:\n",
    " for book in books:\n",
    "     file.write(book+\"\\n\")\n",
    "\n",
    "books=[]\n",
    "with open(file_path,\"r\",encoding=\"utf-8\") as file:\n",
    " mybooks=file.readlines() \n",
    " for item in mybooks:\n",
    "     data=item.strip().split(\", \")\n",
    "     \n",
    "     name=data[0]\n",
    "     author=data[1]\n",
    "     publisher=data[2]\n",
    "     book=Book(name,author,publisher)\n",
    "     books.append(book)\n",
    "     \n",
    "for book in books:\n",
    "     print(book.__str__())\n",
    "     "
   ]
  },
  {
   "cell_type": "code",
   "execution_count": null,
   "id": "15e3337f-d1d5-4616-8297-910b0295374e",
   "metadata": {},
   "outputs": [],
   "source": []
  },
  {
   "cell_type": "code",
   "execution_count": null,
   "id": "924811f0-08d7-423c-8499-8c8043558e03",
   "metadata": {},
   "outputs": [],
   "source": []
  },
  {
   "cell_type": "code",
   "execution_count": null,
   "id": "04f3b1d6-bd98-47b9-9f79-3d3248855396",
   "metadata": {},
   "outputs": [],
   "source": []
  },
  {
   "cell_type": "code",
   "execution_count": null,
   "id": "0b52ff98-e4b6-4cfd-9479-b2b912d164f8",
   "metadata": {},
   "outputs": [],
   "source": []
  }
 ],
 "metadata": {
  "kernelspec": {
   "display_name": "Python 3 (ipykernel)",
   "language": "python",
   "name": "python3"
  },
  "language_info": {
   "codemirror_mode": {
    "name": "ipython",
    "version": 3
   },
   "file_extension": ".py",
   "mimetype": "text/x-python",
   "name": "python",
   "nbconvert_exporter": "python",
   "pygments_lexer": "ipython3",
   "version": "3.12.4"
  }
 },
 "nbformat": 4,
 "nbformat_minor": 5
}
